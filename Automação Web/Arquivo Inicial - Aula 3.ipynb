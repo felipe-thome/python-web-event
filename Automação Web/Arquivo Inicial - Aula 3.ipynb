{
 "cells": [
  {
   "cell_type": "markdown",
   "metadata": {},
   "source": [
    "# Automação Web e Busca de Informações com Python\n",
    "\n",
    "#### Desafio: \n",
    "\n",
    "Trabalhamos numa importadora e o preço dos nossos produtos é vinculado a cotação de:\n",
    "- Dólar\n",
    "- Euro\n",
    "- Ouro\n",
    "\n",
    "Precisamos pegar na internet, de forma automática, a cotação desses 3 itens e saber quanto devemos cobrar pelos nossos produtos, considerando uma margem de contribuição que temos na nossa base de dados.\n",
    "\n",
    "Base de Dados: https://drive.google.com/drive/folders/1KmAdo593nD8J9QBaZxPOG1yxHZua4Rtv?usp=sharing\n",
    "\n",
    "Para isso, vamos criar uma automação web:\n",
    "\n",
    "- Usaremos o selenium\n",
    "- Importante: baixar o webdriver"
   ]
  },
  {
   "cell_type": "markdown",
   "source": [
    "### Passo a Passo\n",
    "- Pegar a cotação do Dólar\n",
    "- Pegar a cotação do Euro\n",
    "- Pegar a cotação do Ouro\n",
    "- Importar e Atualizar a Base de Dados\n",
    "- Recalcular os preços\n",
    "- Exportar a base atualizada"
   ],
   "metadata": {
    "collapsed": false
   }
  },
  {
   "cell_type": "code",
   "execution_count": 5,
   "metadata": {},
   "outputs": [],
   "source": [
    "from selenium import webdriver\n",
    "from selenium.webdriver.common.keys import Keys\n",
    "from selenium.webdriver.common.by import By\n",
    "\n",
    "\n",
    "# para rodar o chrome em 2º plano\n",
    "# from selenium.webdriver.chrome.options import Options\n",
    "# chrome_options = Options()\n",
    "# chrome_options.headless = True\n",
    "# navegador = webdriver.Chrome(options=chrome_options)\n",
    "\n",
    "\n",
    "# Criando o navegador\n",
    "navegador = webdriver.Chrome()\n",
    "\n",
    "# Pegando a cotação do Dólar\n",
    "navegador.get('https://www.google.com/')\n",
    "navegador.find_element('xpath','/html/body/div[1]/div[3]/form/div[1]/div[1]/div[1]/div/div[2]/input').send_keys('cotação dólar',Keys.ENTER)\n",
    "cotacao_dolar = navegador.find_element('xpath','//*[@id=\"knowledge-currency__updatable-data-column\"]/div[1]/div[2]/span[1]').get_attribute('data-value')\n",
    "\n",
    "# Pegando a cotação do Euro\n",
    "navegador.get('https://www.google.com/')\n",
    "navegador.find_element('xpath','/html/body/div[1]/div[3]/form/div[1]/div[1]/div[1]/div/div[2]/input').send_keys('cotação euro',Keys.ENTER)\n",
    "cotacao_euro = navegador.find_element('xpath','//*[@id=\"knowledge-currency__updatable-data-column\"]/div[1]/div[2]/span[1]').get_attribute('data-value')\n",
    "\n",
    "# Pegando a cotação do Ouro\n",
    "navegador.get('https://www.melhorcambio.com/ouro-hoje')\n",
    "cotacao_ouro = navegador.find_element('xpath','//*[@id=\"comercial\"]').get_attribute('value')\n",
    "\n",
    "navegador.quit()"
   ]
  },
  {
   "cell_type": "markdown",
   "metadata": {},
   "source": [
    "### Agora vamos atualiza a  base de preços com as novas cotações\n"
   ]
  },
  {
   "cell_type": "code",
   "execution_count": 6,
   "metadata": {},
   "outputs": [],
   "source": [
    "import pandas as pd\n",
    "\n",
    "\n",
    "# Importando a Base de Dados\n",
    "df = pd.read_excel('Produtos.xlsx')\n",
    "\n",
    "# Atualizando cotação\n",
    "df.loc[df['Moeda'] == 'Dólar','Cotação'] = float(cotacao_dolar)\n",
    "df.loc[df['Moeda'] == 'Euro','Cotação'] = float(cotacao_euro)\n",
    "df.loc[df['Moeda'] == 'Ouro','Cotação'] = float(cotacao_ouro.replace(',','.'))\n",
    "\n",
    "# Atualizando preço de compra e venda\n",
    "df['Preço de Compra'] = df['Preço Original'] * df['Cotação']\n",
    "df['Preço de Venda'] = df['Preço de Compra'] * df['Margem']"
   ]
  },
  {
   "cell_type": "markdown",
   "metadata": {},
   "source": [
    "### Agora vamos exportar a nova base de preços atualizada"
   ]
  },
  {
   "cell_type": "code",
   "execution_count": 7,
   "metadata": {},
   "outputs": [
    {
     "data": {
      "text/plain": "         Produtos  Preço Original  Moeda     Cotação  Preço de Compra  Margem  \\\n0    Câmera Canon          999.99  Dólar    5.096000       5095.94904    1.40   \n1   Carro Renault         4500.00   Euro    5.528396      24877.78020    2.00   \n2   Notebook Dell          899.99  Dólar    5.096000       4586.34904    1.70   \n3          IPhone          799.00  Dólar    5.096000       4071.70400    1.70   \n4      Carro Fiat         3000.00   Euro    5.528396      16585.18680    1.90   \n5  Celular Xiaomi          480.48  Dólar    5.096000       2448.52608    2.00   \n6        Joia 20g           20.00   Ouro  315.120000       6302.40000    1.15   \n\n   Preço de Venda  \n0     7134.328656  \n1    49755.560400  \n2     7796.793368  \n3     6921.896800  \n4    31511.854920  \n5     4897.052160  \n6     7247.760000  ",
      "text/html": "<div>\n<style scoped>\n    .dataframe tbody tr th:only-of-type {\n        vertical-align: middle;\n    }\n\n    .dataframe tbody tr th {\n        vertical-align: top;\n    }\n\n    .dataframe thead th {\n        text-align: right;\n    }\n</style>\n<table border=\"1\" class=\"dataframe\">\n  <thead>\n    <tr style=\"text-align: right;\">\n      <th></th>\n      <th>Produtos</th>\n      <th>Preço Original</th>\n      <th>Moeda</th>\n      <th>Cotação</th>\n      <th>Preço de Compra</th>\n      <th>Margem</th>\n      <th>Preço de Venda</th>\n    </tr>\n  </thead>\n  <tbody>\n    <tr>\n      <th>0</th>\n      <td>Câmera Canon</td>\n      <td>999.99</td>\n      <td>Dólar</td>\n      <td>5.096000</td>\n      <td>5095.94904</td>\n      <td>1.40</td>\n      <td>7134.328656</td>\n    </tr>\n    <tr>\n      <th>1</th>\n      <td>Carro Renault</td>\n      <td>4500.00</td>\n      <td>Euro</td>\n      <td>5.528396</td>\n      <td>24877.78020</td>\n      <td>2.00</td>\n      <td>49755.560400</td>\n    </tr>\n    <tr>\n      <th>2</th>\n      <td>Notebook Dell</td>\n      <td>899.99</td>\n      <td>Dólar</td>\n      <td>5.096000</td>\n      <td>4586.34904</td>\n      <td>1.70</td>\n      <td>7796.793368</td>\n    </tr>\n    <tr>\n      <th>3</th>\n      <td>IPhone</td>\n      <td>799.00</td>\n      <td>Dólar</td>\n      <td>5.096000</td>\n      <td>4071.70400</td>\n      <td>1.70</td>\n      <td>6921.896800</td>\n    </tr>\n    <tr>\n      <th>4</th>\n      <td>Carro Fiat</td>\n      <td>3000.00</td>\n      <td>Euro</td>\n      <td>5.528396</td>\n      <td>16585.18680</td>\n      <td>1.90</td>\n      <td>31511.854920</td>\n    </tr>\n    <tr>\n      <th>5</th>\n      <td>Celular Xiaomi</td>\n      <td>480.48</td>\n      <td>Dólar</td>\n      <td>5.096000</td>\n      <td>2448.52608</td>\n      <td>2.00</td>\n      <td>4897.052160</td>\n    </tr>\n    <tr>\n      <th>6</th>\n      <td>Joia 20g</td>\n      <td>20.00</td>\n      <td>Ouro</td>\n      <td>315.120000</td>\n      <td>6302.40000</td>\n      <td>1.15</td>\n      <td>7247.760000</td>\n    </tr>\n  </tbody>\n</table>\n</div>"
     },
     "metadata": {},
     "output_type": "display_data"
    }
   ],
   "source": [
    "df.to_excel('Produtos_atualizado.xlsx', index = False)\n",
    "nova_tabela = pd.read_excel('Produtos_atualizado.xlsx')\n",
    "display(nova_tabela)"
   ]
  }
 ],
 "metadata": {
  "kernelspec": {
   "display_name": "Python 3",
   "language": "python",
   "name": "python3"
  },
  "language_info": {
   "codemirror_mode": {
    "name": "ipython",
    "version": 3
   },
   "file_extension": ".py",
   "mimetype": "text/x-python",
   "name": "python",
   "nbconvert_exporter": "python",
   "pygments_lexer": "ipython3",
   "version": "3.8.8"
  }
 },
 "nbformat": 4,
 "nbformat_minor": 4
}
