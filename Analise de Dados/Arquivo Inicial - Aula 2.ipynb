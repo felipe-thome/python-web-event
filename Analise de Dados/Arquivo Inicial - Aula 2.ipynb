{
 "cells": [
  {
   "cell_type": "markdown",
   "metadata": {},
   "source": [
    "# Análise de Dados com Python\n",
    "\n",
    "### Desafio:\n",
    "\n",
    "Você trabalha em uma empresa de telecom e tem clientes de vários serviços diferentes, entre os principais: internet e telefone.\n",
    "\n",
    "O problema é que, analisando o histórico dos clientes dos últimos anos, você percebeu que a empresa está com Churn de mais de 26% dos clientes.\n",
    "\n",
    "Isso representa uma perda de milhões para a empresa.\n",
    "\n",
    "O que a empresa precisa fazer para resolver isso?\n",
    "\n",
    "Base de Dados: https://drive.google.com/drive/folders/1T7D0BlWkNuy_MDpUHuBG44kT80EmRYIs?usp=sharing <br>\n",
    "Link Original do Kaggle: https://www.kaggle.com/radmirzosimov/telecom-users-dataset"
   ]
  },
  {
   "cell_type": "markdown",
   "source": [
    "# Passo a Passo\n",
    "- Importar a Base de dados\n",
    "- Visualizar a Base de dados\n",
    "    - Entender as informações\n",
    "    - Descobrir as cagadas\n",
    "- Tratamento dos dados\n",
    "- Analise inicial\n",
    "- Analise detalhada"
   ],
   "metadata": {
    "collapsed": false
   }
  },
  {
   "cell_type": "code",
   "execution_count": 34,
   "metadata": {},
   "outputs": [
    {
     "data": {
      "text/plain": "         Genero  Aposentado Casado Dependentes  MesesComoCliente  \\\n0     Masculino           0    Sim         Sim                72   \n1      Feminino           0    Nao         Nao                44   \n2      Feminino           1    Sim         Nao                38   \n3     Masculino           0    Nao         Nao                 4   \n4     Masculino           0    Nao         Nao                 2   \n...         ...         ...    ...         ...               ...   \n5981  Masculino           0    Sim         Nao                 1   \n5982   Feminino           0    Sim         Sim                23   \n5983  Masculino           0    Sim         Sim                12   \n5984  Masculino           1    Nao         Nao                12   \n5985  Masculino           0    Nao         Nao                26   \n\n     ServicoTelefone MultiplasLinhas ServicoInternet ServicoSegurancaOnline  \\\n0                Sim             Sim             Nao            SemInternet   \n1                Sim             Nao           Fibra                    Nao   \n2                Sim             Sim           Fibra                    Nao   \n3                Sim             Nao             DSL                    Nao   \n4                Sim             Nao             DSL                    Sim   \n...              ...             ...             ...                    ...   \n5981             Sim             Nao           Fibra                    Sim   \n5982             Sim             Sim             DSL                    Sim   \n5983             Sim             Nao             Nao            SemInternet   \n5984             Sim             Sim           Fibra                    Nao   \n5985             Sim             Nao             Nao            SemInternet   \n\n     ServicoBackupOnline ProtecaoEquipamento ServicoSuporteTecnico  \\\n0            SemInternet         SemInternet           SemInternet   \n1                    Sim                 Sim                   Nao   \n2                    Nao                 Nao                   Nao   \n3                    Nao                 Nao                   Nao   \n4                    Nao                 Sim                   Nao   \n...                  ...                 ...                   ...   \n5981                 Nao                 Nao                   Nao   \n5982                 Sim                 Sim                   Sim   \n5983         SemInternet         SemInternet           SemInternet   \n5984                 Nao                 Sim                   Nao   \n5985         SemInternet         SemInternet           SemInternet   \n\n     ServicoStreamingTV ServicoFilmes TipoContrato FaturaDigital  \\\n0           SemInternet   SemInternet       2 anos           Nao   \n1                   Sim           Nao       Mensal           Sim   \n2                   Nao           Nao       Mensal           Sim   \n3                   Nao           Sim       Mensal           Sim   \n4                   Nao           Nao       Mensal           Nao   \n...                 ...           ...          ...           ...   \n5981                Sim           Sim       Mensal           Sim   \n5982                Sim           Sim       2 anos           Sim   \n5983        SemInternet   SemInternet       Mensal           Sim   \n5984                Sim           Sim       Mensal           Sim   \n5985        SemInternet   SemInternet        Anual           Nao   \n\n        FormaPagamento  ValorMensal  TotalGasto Churn  \n0        CartaoCredito        24.10     1734.65   Nao  \n1        CartaoCredito        88.15     3973.20   Nao  \n2     DebitoAutomatico        74.95     2869.85   Sim  \n3     BoletoEletronico        55.90      238.50   Nao  \n4     BoletoEletronico        53.45      119.50   Nao  \n...                ...          ...         ...   ...  \n5981  BoletoEletronico        95.00       95.00   Sim  \n5982     CartaoCredito        91.10     2198.30   Nao  \n5983  BoletoEletronico        21.15      306.05   Nao  \n5984  BoletoEletronico        99.45     1200.15   Sim  \n5985     CartaoCredito        19.80      457.30   Nao  \n\n[5974 rows x 20 columns]",
      "text/html": "<div>\n<style scoped>\n    .dataframe tbody tr th:only-of-type {\n        vertical-align: middle;\n    }\n\n    .dataframe tbody tr th {\n        vertical-align: top;\n    }\n\n    .dataframe thead th {\n        text-align: right;\n    }\n</style>\n<table border=\"1\" class=\"dataframe\">\n  <thead>\n    <tr style=\"text-align: right;\">\n      <th></th>\n      <th>Genero</th>\n      <th>Aposentado</th>\n      <th>Casado</th>\n      <th>Dependentes</th>\n      <th>MesesComoCliente</th>\n      <th>ServicoTelefone</th>\n      <th>MultiplasLinhas</th>\n      <th>ServicoInternet</th>\n      <th>ServicoSegurancaOnline</th>\n      <th>ServicoBackupOnline</th>\n      <th>ProtecaoEquipamento</th>\n      <th>ServicoSuporteTecnico</th>\n      <th>ServicoStreamingTV</th>\n      <th>ServicoFilmes</th>\n      <th>TipoContrato</th>\n      <th>FaturaDigital</th>\n      <th>FormaPagamento</th>\n      <th>ValorMensal</th>\n      <th>TotalGasto</th>\n      <th>Churn</th>\n    </tr>\n  </thead>\n  <tbody>\n    <tr>\n      <th>0</th>\n      <td>Masculino</td>\n      <td>0</td>\n      <td>Sim</td>\n      <td>Sim</td>\n      <td>72</td>\n      <td>Sim</td>\n      <td>Sim</td>\n      <td>Nao</td>\n      <td>SemInternet</td>\n      <td>SemInternet</td>\n      <td>SemInternet</td>\n      <td>SemInternet</td>\n      <td>SemInternet</td>\n      <td>SemInternet</td>\n      <td>2 anos</td>\n      <td>Nao</td>\n      <td>CartaoCredito</td>\n      <td>24.10</td>\n      <td>1734.65</td>\n      <td>Nao</td>\n    </tr>\n    <tr>\n      <th>1</th>\n      <td>Feminino</td>\n      <td>0</td>\n      <td>Nao</td>\n      <td>Nao</td>\n      <td>44</td>\n      <td>Sim</td>\n      <td>Nao</td>\n      <td>Fibra</td>\n      <td>Nao</td>\n      <td>Sim</td>\n      <td>Sim</td>\n      <td>Nao</td>\n      <td>Sim</td>\n      <td>Nao</td>\n      <td>Mensal</td>\n      <td>Sim</td>\n      <td>CartaoCredito</td>\n      <td>88.15</td>\n      <td>3973.20</td>\n      <td>Nao</td>\n    </tr>\n    <tr>\n      <th>2</th>\n      <td>Feminino</td>\n      <td>1</td>\n      <td>Sim</td>\n      <td>Nao</td>\n      <td>38</td>\n      <td>Sim</td>\n      <td>Sim</td>\n      <td>Fibra</td>\n      <td>Nao</td>\n      <td>Nao</td>\n      <td>Nao</td>\n      <td>Nao</td>\n      <td>Nao</td>\n      <td>Nao</td>\n      <td>Mensal</td>\n      <td>Sim</td>\n      <td>DebitoAutomatico</td>\n      <td>74.95</td>\n      <td>2869.85</td>\n      <td>Sim</td>\n    </tr>\n    <tr>\n      <th>3</th>\n      <td>Masculino</td>\n      <td>0</td>\n      <td>Nao</td>\n      <td>Nao</td>\n      <td>4</td>\n      <td>Sim</td>\n      <td>Nao</td>\n      <td>DSL</td>\n      <td>Nao</td>\n      <td>Nao</td>\n      <td>Nao</td>\n      <td>Nao</td>\n      <td>Nao</td>\n      <td>Sim</td>\n      <td>Mensal</td>\n      <td>Sim</td>\n      <td>BoletoEletronico</td>\n      <td>55.90</td>\n      <td>238.50</td>\n      <td>Nao</td>\n    </tr>\n    <tr>\n      <th>4</th>\n      <td>Masculino</td>\n      <td>0</td>\n      <td>Nao</td>\n      <td>Nao</td>\n      <td>2</td>\n      <td>Sim</td>\n      <td>Nao</td>\n      <td>DSL</td>\n      <td>Sim</td>\n      <td>Nao</td>\n      <td>Sim</td>\n      <td>Nao</td>\n      <td>Nao</td>\n      <td>Nao</td>\n      <td>Mensal</td>\n      <td>Nao</td>\n      <td>BoletoEletronico</td>\n      <td>53.45</td>\n      <td>119.50</td>\n      <td>Nao</td>\n    </tr>\n    <tr>\n      <th>...</th>\n      <td>...</td>\n      <td>...</td>\n      <td>...</td>\n      <td>...</td>\n      <td>...</td>\n      <td>...</td>\n      <td>...</td>\n      <td>...</td>\n      <td>...</td>\n      <td>...</td>\n      <td>...</td>\n      <td>...</td>\n      <td>...</td>\n      <td>...</td>\n      <td>...</td>\n      <td>...</td>\n      <td>...</td>\n      <td>...</td>\n      <td>...</td>\n      <td>...</td>\n    </tr>\n    <tr>\n      <th>5981</th>\n      <td>Masculino</td>\n      <td>0</td>\n      <td>Sim</td>\n      <td>Nao</td>\n      <td>1</td>\n      <td>Sim</td>\n      <td>Nao</td>\n      <td>Fibra</td>\n      <td>Sim</td>\n      <td>Nao</td>\n      <td>Nao</td>\n      <td>Nao</td>\n      <td>Sim</td>\n      <td>Sim</td>\n      <td>Mensal</td>\n      <td>Sim</td>\n      <td>BoletoEletronico</td>\n      <td>95.00</td>\n      <td>95.00</td>\n      <td>Sim</td>\n    </tr>\n    <tr>\n      <th>5982</th>\n      <td>Feminino</td>\n      <td>0</td>\n      <td>Sim</td>\n      <td>Sim</td>\n      <td>23</td>\n      <td>Sim</td>\n      <td>Sim</td>\n      <td>DSL</td>\n      <td>Sim</td>\n      <td>Sim</td>\n      <td>Sim</td>\n      <td>Sim</td>\n      <td>Sim</td>\n      <td>Sim</td>\n      <td>2 anos</td>\n      <td>Sim</td>\n      <td>CartaoCredito</td>\n      <td>91.10</td>\n      <td>2198.30</td>\n      <td>Nao</td>\n    </tr>\n    <tr>\n      <th>5983</th>\n      <td>Masculino</td>\n      <td>0</td>\n      <td>Sim</td>\n      <td>Sim</td>\n      <td>12</td>\n      <td>Sim</td>\n      <td>Nao</td>\n      <td>Nao</td>\n      <td>SemInternet</td>\n      <td>SemInternet</td>\n      <td>SemInternet</td>\n      <td>SemInternet</td>\n      <td>SemInternet</td>\n      <td>SemInternet</td>\n      <td>Mensal</td>\n      <td>Sim</td>\n      <td>BoletoEletronico</td>\n      <td>21.15</td>\n      <td>306.05</td>\n      <td>Nao</td>\n    </tr>\n    <tr>\n      <th>5984</th>\n      <td>Masculino</td>\n      <td>1</td>\n      <td>Nao</td>\n      <td>Nao</td>\n      <td>12</td>\n      <td>Sim</td>\n      <td>Sim</td>\n      <td>Fibra</td>\n      <td>Nao</td>\n      <td>Nao</td>\n      <td>Sim</td>\n      <td>Nao</td>\n      <td>Sim</td>\n      <td>Sim</td>\n      <td>Mensal</td>\n      <td>Sim</td>\n      <td>BoletoEletronico</td>\n      <td>99.45</td>\n      <td>1200.15</td>\n      <td>Sim</td>\n    </tr>\n    <tr>\n      <th>5985</th>\n      <td>Masculino</td>\n      <td>0</td>\n      <td>Nao</td>\n      <td>Nao</td>\n      <td>26</td>\n      <td>Sim</td>\n      <td>Nao</td>\n      <td>Nao</td>\n      <td>SemInternet</td>\n      <td>SemInternet</td>\n      <td>SemInternet</td>\n      <td>SemInternet</td>\n      <td>SemInternet</td>\n      <td>SemInternet</td>\n      <td>Anual</td>\n      <td>Nao</td>\n      <td>CartaoCredito</td>\n      <td>19.80</td>\n      <td>457.30</td>\n      <td>Nao</td>\n    </tr>\n  </tbody>\n</table>\n<p>5974 rows × 20 columns</p>\n</div>"
     },
     "metadata": {},
     "output_type": "display_data"
    },
    {
     "name": "stdout",
     "output_type": "stream",
     "text": [
      "<class 'pandas.core.frame.DataFrame'>\n",
      "Int64Index: 5974 entries, 0 to 5985\n",
      "Data columns (total 20 columns):\n",
      " #   Column                  Non-Null Count  Dtype  \n",
      "---  ------                  --------------  -----  \n",
      " 0   Genero                  5974 non-null   object \n",
      " 1   Aposentado              5974 non-null   int64  \n",
      " 2   Casado                  5974 non-null   object \n",
      " 3   Dependentes             5974 non-null   object \n",
      " 4   MesesComoCliente        5974 non-null   int64  \n",
      " 5   ServicoTelefone         5974 non-null   object \n",
      " 6   MultiplasLinhas         5974 non-null   object \n",
      " 7   ServicoInternet         5974 non-null   object \n",
      " 8   ServicoSegurancaOnline  5974 non-null   object \n",
      " 9   ServicoBackupOnline     5974 non-null   object \n",
      " 10  ProtecaoEquipamento     5974 non-null   object \n",
      " 11  ServicoSuporteTecnico   5974 non-null   object \n",
      " 12  ServicoStreamingTV      5974 non-null   object \n",
      " 13  ServicoFilmes           5974 non-null   object \n",
      " 14  TipoContrato            5974 non-null   object \n",
      " 15  FaturaDigital           5974 non-null   object \n",
      " 16  FormaPagamento          5974 non-null   object \n",
      " 17  ValorMensal             5974 non-null   float64\n",
      " 18  TotalGasto              5974 non-null   float64\n",
      " 19  Churn                   5974 non-null   object \n",
      "dtypes: float64(2), int64(2), object(16)\n",
      "memory usage: 980.1+ KB\n"
     ]
    }
   ],
   "source": [
    "# Importando as bibliotecas necessárias\n",
    "import pandas as pd\n",
    "\n",
    "# Importando o data frame\n",
    "df = pd.read_csv('telecom_users.csv')\n",
    "\n",
    "# Visualizando e limpando\n",
    "df['TotalGasto'] = pd.to_numeric(df['TotalGasto'], errors ='coerce') ## Convertendo os dados da linha 19 para um tipo numerico\n",
    "df = df.drop(columns = ['Unnamed: 0','IDCliente']) ## Removendo coluna não relevante\n",
    "df = df.dropna(how ='all', axis = 1) ## Removendo todas as colunas que estão vazias\n",
    "df = df.dropna(how ='any', axis = 0) ## Removendo todas as linhas que possuem algum valor vazio\n",
    "\n",
    "display(df)\n",
    "df.info()"
   ]
  },
  {
   "cell_type": "code",
   "execution_count": 35,
   "outputs": [
    {
     "name": "stdout",
     "output_type": "stream",
     "text": [
      "Nao    4387\n",
      "Sim    1587\n",
      "Name: Churn, dtype: int64\n",
      "Nao    73.43%\n",
      "Sim    26.57%\n",
      "Name: Churn, dtype: object\n"
     ]
    }
   ],
   "source": [
    "# Analise Inicial\n",
    "print(df['Churn'].value_counts())\n",
    "print(df['Churn'].value_counts(normalize = True).map('{:.2%}'.format))"
   ],
   "metadata": {
    "collapsed": false
   }
  },
  {
   "cell_type": "code",
   "execution_count": null,
   "outputs": [],
   "source": [
    "# Analise Detalhada — Comparar cada coluna da base de dados com a coluna Churn\n",
    "import plotly.express as px\n",
    "\n",
    "# Cria o gráfico\n",
    "for column in df.columns:\n",
    "    grafico = px.histogram(df, x = column, color ='Churn', text_auto = True)\n",
    "    grafico.show()\n",
    "\n",
    "# Exibe o gráfico"
   ],
   "metadata": {
    "collapsed": false,
    "pycharm": {
     "is_executing": true
    }
   }
  },
  {
   "cell_type": "markdown",
   "metadata": {},
   "source": [
    "# Conclusões e Ações\n",
    "\n",
    "### Escreva aqui suas conclusões:\n",
    "- Clientes com famílias maiores tendem a cancelar menos\n",
    "    - Promoções diferenciadas para mais pessoas da mesma família\n",
    "- Os clientes nos primeiros meses tem uma tendência MUITO maior a cancelar\n",
    "    - Pode ser que o ‘marketing’ esteja muito agressivo\n",
    "    - Pode ser que a experiência nos primeiros meses seja ruim\n",
    "    - Talvez seja interessante fazer uma promoção no primeiro ano de contrato\n",
    "- Tem algum problema no serviço de Fibra\n",
    "- Pessoas com mais serviços contratados tem menor tendencia de cancelamento\n",
    "    - Promover mais os serviços\n",
    "    - Baratear os serviços\n",
    "- Pessoas com contratos mensais têm uma ALTA taxa de cancelamento\n",
    "    - Promover mais os planos anuais\n",
    "- Pagamentos no boleto geram mais cancelamentos\n",
    "    - Promover mais o pagamento no cartão de crédito\n"
   ]
  },
  {
   "cell_type": "markdown",
   "metadata": {},
   "source": []
  }
 ],
 "metadata": {
  "kernelspec": {
   "display_name": "Python 3",
   "language": "python",
   "name": "python3"
  },
  "language_info": {
   "codemirror_mode": {
    "name": "ipython",
    "version": 3
   },
   "file_extension": ".py",
   "mimetype": "text/x-python",
   "name": "python",
   "nbconvert_exporter": "python",
   "pygments_lexer": "ipython3",
   "version": "3.8.8"
  }
 },
 "nbformat": 4,
 "nbformat_minor": 4
}
