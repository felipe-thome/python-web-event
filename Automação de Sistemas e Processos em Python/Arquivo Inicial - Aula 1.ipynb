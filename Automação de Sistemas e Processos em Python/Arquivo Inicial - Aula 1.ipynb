{
 "cells": [
  {
   "cell_type": "markdown",
   "source": [
    "# Automação de Sistemas e Processos com Python\n",
    "\n",
    "### Desafio:\n",
    "\n",
    "Todos os dias, o nosso sistema atualiza as vendas do dia anterior.\n",
    "O seu trabalho diário, como analista, é enviar um e-mail para a diretoria, assim que começar a trabalhar, com o faturamento e a quantidade de produtos vendidos no dia anterior\n",
    "\n",
    "E-mail da diretoria: seugmail+diretoria@gmail.com<br>\n",
    "Local onde o sistema disponibiliza as vendas do dia anterior: https://drive.google.com/drive/folders/149xknr9JvrlEnhNWO49zPcw0PW5icxga?usp=sharing\n",
    "\n",
    "Para resolver isso, vamos usar o pyautogui, uma biblioteca de automação de comandos do mouse e do teclado"
   ],
   "metadata": {
    "collapsed": false
   }
  },
  {
   "cell_type": "markdown",
   "source": [
    "#### Passo 1: Entrar no sistema da empresa (no link do Drive)\n",
    "#### Passo 2: Navegar até o local do relatório (encontrar e entrar na pasta exportar)\n",
    "#### Passo 3: Exportar o relatório (fazer o download)\n",
    "#### Passo 4: Calcular os indicadores (faturamento e quantidade de produtos)\n",
    "#### Passo 5: Enviar um e-mail para a diretoria"
   ],
   "metadata": {
    "collapsed": false
   }
  },
  {
   "cell_type": "code",
   "execution_count": 7,
   "metadata": {},
   "outputs": [],
   "source": [
    "# Importando as bibliotecas necessárias\n",
    "import pyautogui\n",
    "import pyperclip\n",
    "import time\n",
    "\n",
    "pyautogui.PAUSE = 1\n",
    "\n",
    "# Entrar no sistema\n",
    "time.sleep(2)\n",
    "pyautogui.press('win')\n",
    "pyautogui.write('chrome')\n",
    "pyautogui.press('enter')\n",
    "pyperclip.copy('https://drive.google.com/drive/folders/149xknr9JvrlEnhNWO49zPcw0PW5icxga')\n",
    "pyautogui.hotkey('ctrl','v')\n",
    "pyautogui.press('enter')\n",
    "\n",
    "# Entrar na pasta\n",
    "time.sleep(4)\n",
    "pyautogui.click(x = -650,y = 292, clicks = 2)\n",
    "time.sleep(2)\n",
    "\n",
    "# Baixar o arquivo\n",
    "pyautogui.click(x = -650,y = 292)\n",
    "pyautogui.click(x = -148, y = 191)\n",
    "pyautogui.click(x = -362, y = 626)"
   ]
  },
  {
   "cell_type": "markdown",
   "metadata": {},
   "source": [
    "### Vamos agora ler o arquivo baixado para pegar os indicadores\n",
    "\n",
    "- Faturamento\n",
    "- Quantidade de Produtos"
   ]
  },
  {
   "cell_type": "code",
   "execution_count": 8,
   "outputs": [],
   "source": [
    "# Importando bibliotecas necessárias\n",
    "import pandas as pd\n",
    "\n",
    "time.sleep(6)\n",
    "tabela = pd.read_excel(r\"C:\\Users\\Felipe\\Downloads\\Vendas - Dez.xlsx\")\n",
    "\n",
    "faturamento = tabela['Valor Final'].sum()\n",
    "quantidade = tabela['Quantidade'].sum()"
   ],
   "metadata": {
    "collapsed": false
   }
  },
  {
   "cell_type": "markdown",
   "metadata": {},
   "source": [
    "### Vamos agora enviar um e-mail pelo gmail"
   ]
  },
  {
   "cell_type": "code",
   "execution_count": 9,
   "metadata": {},
   "outputs": [],
   "source": [
    "pyautogui.hotkey('ctrl','t')\n",
    "pyperclip.copy('https://mail.google.com/mail/u/0/?tab=rm&ogbl#inbox?compose=new')\n",
    "pyautogui.hotkey('ctrl','v')\n",
    "pyautogui.press('enter')\n",
    "time.sleep(5)\n",
    "\n",
    "destinatario = \"felipe.cardoso.th+automação@gmail.com\"\n",
    "\n",
    "pyperclip.copy(destinatario)\n",
    "pyautogui.hotkey('ctrl','v')\n",
    "pyautogui.press('tab', presses= 1)\n",
    "\n",
    "assunto = 'Relatório de Vendas'\n",
    "\n",
    "pyperclip.copy(assunto)\n",
    "pyautogui.hotkey('ctrl','v')\n",
    "pyautogui.press('tab')\n",
    "\n",
    "texto = f\"\"\"\n",
    "Prezados, bom dia\n",
    "\n",
    "O faturamento de ontem foi de: R$ {faturamento:,.2f}\n",
    "A quantidade de produtos foi de {quantidade:,}\n",
    "\n",
    "Abs,\n",
    "Felipe Thomé\"\"\"\n",
    "\n",
    "pyperclip.copy(texto)\n",
    "pyautogui.hotkey('ctrl','v')\n",
    "\n",
    "pyautogui.hotkey('ctrl','enter')"
   ]
  },
  {
   "cell_type": "markdown",
   "metadata": {},
   "source": [
    "#### Use esse código para descobrir qual a posição de um item que queira clicar"
   ]
  },
  {
   "cell_type": "code",
   "execution_count": 10,
   "metadata": {},
   "outputs": [],
   "source": [
    "# time.sleep(5)\n",
    "# pyautogui.position()"
   ]
  }
 ],
 "metadata": {
  "kernelspec": {
   "display_name": "Python 3",
   "language": "python",
   "name": "python3"
  },
  "language_info": {
   "codemirror_mode": {
    "name": "ipython",
    "version": 3
   },
   "file_extension": ".py",
   "mimetype": "text/x-python",
   "name": "python",
   "nbconvert_exporter": "python",
   "pygments_lexer": "ipython3",
   "version": "3.8.8"
  }
 },
 "nbformat": 4,
 "nbformat_minor": 4
}
